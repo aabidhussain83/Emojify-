{
 "cells": [
  {
   "cell_type": "code",
   "execution_count": 2,
   "id": "800a795a",
   "metadata": {},
   "outputs": [],
   "source": [
    "import tkinter as tk\n",
    "from tkinter import *\n",
    "import numpy as np\n",
    "import cv2\n",
    "from PIL import Image, ImageTk\n",
    "import os"
   ]
  },
  {
   "cell_type": "code",
   "execution_count": 3,
   "id": "067dc70d",
   "metadata": {},
   "outputs": [],
   "source": [
    "from keyring.backends import null"
   ]
  },
  {
   "cell_type": "code",
   "execution_count": 4,
   "id": "cf307940",
   "metadata": {},
   "outputs": [],
   "source": [
    "from tensorflow.keras.models import Sequential\n",
    "from keras.layers import Dense, Dropout, Flatten\n",
    "from keras.layers import Conv2D\n",
    "from tensorflow.keras.optimizers import Adam\n",
    "from keras.layers import MaxPooling2D\n",
    "from keras.preprocessing.image import ImageDataGenerator\n",
    "import threading"
   ]
  },
  {
   "cell_type": "code",
   "execution_count": 5,
   "id": "89cf3a0d",
   "metadata": {},
   "outputs": [],
   "source": [
    "from tensorflow.python.ops.signal.shape_ops import frame"
   ]
  },
  {
   "cell_type": "code",
   "execution_count": 6,
   "id": "52bbc669",
   "metadata": {},
   "outputs": [],
   "source": [
    "emotion_model=Sequential()\n",
    "emotion_model.add(Conv2D(32, kernel_size=(3, 3), activation='relu', input_shape=(48, 48, 1)))\n",
    "emotion_model.add(Conv2D(64, kernel_size=(3, 3), activation='relu'))\n",
    "emotion_model.add(MaxPooling2D(pool_size=(2, 2)))\n",
    "emotion_model.add(Dropout(0.25))\n",
    "emotion_model.add(Conv2D(128, kernel_size=(3, 3), activation='relu'))\n",
    "emotion_model.add(MaxPooling2D(pool_size=(2, 2)))\n",
    "emotion_model.add(Conv2D(64, kernel_size=(3, 3), activation='relu'))\n",
    "emotion_model.add(MaxPooling2D(pool_size=(2, 2)))\n",
    "emotion_model.add(Dropout(0.25))\n",
    "emotion_model.add(Flatten())\n",
    "emotion_model.add(Dense(1024,activation='relu'))\n",
    "emotion_model.add(Dropout(0.25))\n",
    "emotion_model.add(Dense(7,activation='softmax'))\n",
    "emotion_model.load_weights('model.h5')"
   ]
  },
  {
   "cell_type": "code",
   "execution_count": 7,
   "id": "e2ff6d36",
   "metadata": {},
   "outputs": [],
   "source": [
    "cv2.ocl.setUseOpenCL(False)"
   ]
  },
  {
   "cell_type": "code",
   "execution_count": 8,
   "id": "fe012303",
   "metadata": {},
   "outputs": [],
   "source": [
    "emotion_dict = {0: \"Angry\", 1: \"Disgusted\", 2: \"Fearful\", 3: \"Happy\", 4: \"Neutral\", 5: \"Sad\", 6: \"Surprised\"}\n",
    "\n",
    "#cur_path=os.path.dirname(os.path.abspath(__file__))\n",
    "\n",
    "emoji_dist={0:\"./emojis/angry.png\",2:\"./emojis/disgust.png\",2:\"./emojis/fear.png\",3:\"./emojis/happy.png\",4:\"./emojis/neutral.png\",5:\"./emojis/sad.png\",6:\"./emojis/surprise.png\"}\n",
    "global last_frame1\n",
    "last_frame1 = np.zeros((480, 640, 3), dtype=np.uint8)\n",
    "global cap1\n",
    "num=0\n",
    "show_text=[0]\n",
    "global frame_number"
   ]
  },
  {
   "cell_type": "code",
   "execution_count": 9,
   "id": "40f2db0c",
   "metadata": {},
   "outputs": [],
   "source": [
    "def show_subject():\n",
    "    #cap1=cv2.VideoCapture(\"C:/Users/91993/Desktop/aquib.mp4\")\n",
    "    cap1 = cv2.VideoCapture(0)\n",
    "    # if not cap1.isOpened():\n",
    "    #     print(\"Camera opening failed ! \")\n",
    "    global frame_number\n",
    "    length = int(cap1.get(cv2.CAP_PROP_FRAME_COUNT))\n",
    "\n",
    "    if frame_number > length:\n",
    "        exit()\n",
    "    frame_number += 1\n",
    "\n",
    "    cap1.set(cv2.CAP_PROP_FPS,5)\n",
    "\n",
    "    flag1,frame1=cap1.read()\n",
    "    bounding_box = cv2.CascadeClassifier(cv2.data.haarcascades + 'haarcascade_frontalface_default.xml')\n",
    "    gray_frame = cv2.cvtColor(frame1, cv2.COLOR_BGR2GRAY)\n",
    "    num_faces = bounding_box.detectMultiScale(gray_frame,scaleFactor=1.3, minNeighbors=5)\n",
    "\n",
    "\n",
    "\n",
    "    for (x, y, w, h) in num_faces:\n",
    "        global show_text\n",
    "        cv2.rectangle(frame1, (x, y), (x+w, y+h), (255, 0, 0), 2)\n",
    "        roi_gray_frame = gray_frame[y:y + h, x:x + w]\n",
    "        cropped_img = np.expand_dims(np.expand_dims(cv2.resize(roi_gray_frame, (48, 48)), -1), 0)\n",
    "        emotion_prediction = emotion_model.predict(cropped_img)\n",
    "        maxindex = int(np.argmax(emotion_prediction))\n",
    "        cv2.putText(frame1, emotion_dict[maxindex], (x+20, y-60), cv2.FONT_HERSHEY_SIMPLEX, 1, (255, 255, 255), 2, cv2.LINE_AA)\n",
    "        show_text[0]=maxindex\n",
    "\n",
    "    #show_emoji()\n",
    "\n",
    "    if flag1 is None:\n",
    "        print (\"Major error !: \")\n",
    "    elif flag1:\n",
    "        global last_frame1\n",
    "        last_frame1=frame1.copy()\n",
    "        pic=cv2.cvtColor(last_frame1, cv2.COLOR_BGR2RGB)\n",
    "        img=Image.fromarray(pic)\n",
    "        imgtk=ImageTk.PhotoImage(image=img)\n",
    "        lmain.imgtk=imgtk\n",
    "        lmain.configure(image=imgtk)\n",
    "        root.update()\n",
    "        lmain.after(10,show_subject)\n",
    "    if cv2.waitKey(1) & 0xFF==ord('q'):\n",
    "        exit()\n"
   ]
  },
  {
   "cell_type": "code",
   "execution_count": 10,
   "id": "7d0c9b41",
   "metadata": {},
   "outputs": [],
   "source": [
    "def show_emoji():\n",
    "    frame2=cv2.imread(emoji_dist[show_text[0]])\n",
    "    pic2=cv2.cvtColor(frame2,cv2.COLOR_BGR2RGB)\n",
    "    img2=Image.fromarray(pic2)\n",
    "    imgtk2=ImageTk.PhotoImage(image=img2)\n",
    "    lmain2.imgtk2=imgtk2\n",
    "    lmain3.configure(text=emotion_dict[show_text[0]],font=('arial', 45 , 'bold'))\n",
    "    lmain2.configure(image=imgtk2)\n",
    "    root.update()\n",
    "    lmain2.after(10, show_emoji)"
   ]
  },
  {
   "cell_type": "code",
   "execution_count": 11,
   "id": "30117a2a",
   "metadata": {},
   "outputs": [
    {
     "name": "stderr",
     "output_type": "stream",
     "text": [
      "Exception in Tkinter callback\n",
      "Traceback (most recent call last):\n",
      "  File \"C:\\Users\\91993\\anaconda3\\lib\\tkinter\\__init__.py\", line 1892, in __call__\n",
      "    return self.func(*args)\n",
      "  File \"C:\\Users\\91993\\anaconda3\\lib\\tkinter\\__init__.py\", line 814, in callit\n",
      "    func(*args)\n",
      "  File \"<ipython-input-9-08b8bbcffb8f>\", line 41, in show_subject\n",
      "    imgtk=ImageTk.PhotoImage(image=img)\n",
      "  File \"C:\\Users\\91993\\anaconda3\\lib\\site-packages\\PIL\\ImageTk.py\", line 112, in __init__\n",
      "    self.__photo = tkinter.PhotoImage(**kw)\n",
      "  File \"C:\\Users\\91993\\anaconda3\\lib\\tkinter\\__init__.py\", line 4064, in __init__\n",
      "    Image.__init__(self, 'photo', name, cnf, master, **kw)\n",
      "  File \"C:\\Users\\91993\\anaconda3\\lib\\tkinter\\__init__.py\", line 3997, in __init__\n",
      "    master = _get_default_root('create image')\n",
      "  File \"C:\\Users\\91993\\anaconda3\\lib\\tkinter\\__init__.py\", line 297, in _get_default_root\n",
      "    raise RuntimeError(f\"Too early to {what}: no default root window\")\n",
      "RuntimeError: Too early to create image: no default root window\n"
     ]
    }
   ],
   "source": [
    "if __name__ == '__main__':\n",
    "    frame_number=0\n",
    "    root = tk.Tk()\n",
    "    lmain=tk.Label(master=root,padx=0,bd=0)\n",
    "    lmain2=tk.Label(master=root,bd=0)\n",
    "    lmain3=tk.Label(master=root,bd=0,fg='#CDCDCD',bg='black')\n",
    "    #lmain.pack(side=LEFT)\n",
    "    lmain.place(x=50,y=20)\n",
    "    #lmain2.pack(side=RIGHT)\n",
    "    lmain2.place(x=600, y=20)\n",
    "    #lmain3.pack(side=RIGHT)\n",
    "    lmain3.place(x=650,y=20)\n",
    "\n",
    "    root.title(\"Photo To Emoji\")\n",
    "    root.geometry(\"1150x575\")\n",
    "    root['bg'] = 'black'\n",
    "    exitButton = Button(root, text='Quit', fg=\"red\", command=root.destroy, font=('arial', 25, 'bold')).pack(side=BOTTOM)\n",
    "    #threading.Thread(target=show_subject).start()\n",
    "    #threading.Thread(target= show_emoji()).start()\n",
    "\n",
    "\n",
    "    show_subject()\n",
    "    show_emoji()\n",
    "    root.mainloop()"
   ]
  },
  {
   "cell_type": "code",
   "execution_count": null,
   "id": "2c19158e",
   "metadata": {},
   "outputs": [],
   "source": []
  },
  {
   "cell_type": "code",
   "execution_count": null,
   "id": "f76e50e9",
   "metadata": {},
   "outputs": [],
   "source": []
  }
 ],
 "metadata": {
  "kernelspec": {
   "display_name": "Python 3",
   "language": "python",
   "name": "python3"
  },
  "language_info": {
   "codemirror_mode": {
    "name": "ipython",
    "version": 3
   },
   "file_extension": ".py",
   "mimetype": "text/x-python",
   "name": "python",
   "nbconvert_exporter": "python",
   "pygments_lexer": "ipython3",
   "version": "3.8.8"
  }
 },
 "nbformat": 4,
 "nbformat_minor": 5
}
